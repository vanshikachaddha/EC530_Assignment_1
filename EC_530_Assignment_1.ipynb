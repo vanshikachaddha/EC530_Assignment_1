{
  "nbformat": 4,
  "nbformat_minor": 0,
  "metadata": {
    "colab": {
      "provenance": []
    },
    "kernelspec": {
      "name": "python3",
      "display_name": "Python 3"
    },
    "language_info": {
      "name": "python"
    }
  },
  "cells": [
    {
      "cell_type": "code",
      "execution_count": 7,
      "metadata": {
        "id": "sdgQ0FQuyBpU"
      },
      "outputs": [],
      "source": [
        "import math\n",
        "\n",
        "# Calculate distance between two points\n",
        "def distance(lon1, lon2, lat1, lat2):\n",
        "  lon1_rad = lon1 * (math.pi/180)\n",
        "  lon2_rad = lon2 * (math.pi/180)\n",
        "  lat1_rad = lat1 * (math.pi/180)\n",
        "  lat2_rad = lat2 * (math.pi/180)\n",
        "\n",
        "  distance = 3963.0 * math.acos(math.sin(lat1_rad) * math.sin(lat2_rad) + math.cos(lat1_rad) * math.cos(lat2_rad) * math.cos(lon2_rad-lon1_rad))\n",
        "\n",
        "  return distance\n",
        "\n",
        "\n",
        "# Find the shortest distance\n",
        "def shortest_match(arr1, arr2):\n",
        "\n",
        "  shortest_match = []\n",
        "\n",
        "  for lat1, lon1 in arr1:\n",
        "      distances = []\n",
        "      for lat2, lon2 in arr2:\n",
        "        distances.append(distance(lon1, lon2, lat1, lat2))\n",
        "\n",
        "      min_value = min(distances)\n",
        "      min_index = distances.index(min_value)\n",
        "      closest_point = array2[min_index]\n",
        "      shortest_match.append(((lat1, lon1), closest_point))\n",
        "\n",
        "\n",
        "  return shortest_match"
      ]
    },
    {
      "cell_type": "code",
      "source": [
        "# Example implementation\n",
        "\n",
        "array1 = [\n",
        "    (42.3601, -71.0589),\n",
        "    (34.0522, -118.2437)\n",
        "]\n",
        "\n",
        "array2 = [\n",
        "    (40.7128, -74.0060),\n",
        "    (36.7783, -119.4179),\n",
        "    (41.8781, -87.6298)\n",
        "]\n",
        "\n",
        "result = shortest_match(array1, array2)"
      ],
      "metadata": {
        "id": "2Be8zgSU83zj"
      },
      "execution_count": 8,
      "outputs": []
    }
  ]
}