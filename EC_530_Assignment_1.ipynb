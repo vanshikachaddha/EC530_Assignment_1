{
  "nbformat": 4,
  "nbformat_minor": 0,
  "metadata": {
    "colab": {
      "provenance": []
    },
    "kernelspec": {
      "name": "python3",
      "display_name": "Python 3"
    },
    "language_info": {
      "name": "python"
    }
  },
  "cells": [
    {
      "cell_type": "code",
      "execution_count": 1,
      "metadata": {
        "id": "sdgQ0FQuyBpU"
      },
      "outputs": [],
      "source": [
        "import math\n",
        "import pandas as pd"
      ]
    },
    {
      "cell_type": "code",
      "source": [
        "# Checking if DMS\n",
        "def check_DMS(value):\n",
        "  return isinstance(value, str) and \" \" in value\n",
        "\n",
        "# Convert from DMS to DD\n",
        "def convert_dms(dms):\n",
        "\n",
        "  if check_DMS(dms):\n",
        "    deg_form = dms.split()\n",
        "    return round(float(deg_form[0]) + (float(deg_form[1]) / 60), 6)\n",
        "  else:\n",
        "    return dms"
      ],
      "metadata": {
        "id": "7JUmJYDjGqv_"
      },
      "execution_count": 43,
      "outputs": []
    },
    {
      "cell_type": "code",
      "source": [
        "# Reading a CSV File\n",
        "\n",
        "def tuple_list(a,b):\n",
        "  return list(map(lambda x, y:(x,y), a, b))\n",
        "\n",
        "\n",
        "def read_csv(name, lat_col, long_col):\n",
        "  dataset = pd.read_csv(name)\n",
        "  latitude = dataset.iloc[:, lat_col].values\n",
        "  longitude = dataset.iloc[:, long_col].values\n",
        "\n",
        "  return tuple_list(latitude, longitude)"
      ],
      "metadata": {
        "id": "IVDMxg5SAfyW"
      },
      "execution_count": 44,
      "outputs": []
    },
    {
      "cell_type": "code",
      "source": [
        "# Precompute radians\n",
        "def convert_radians(arr):\n",
        "\n",
        "  new_arr = []\n",
        "  for (lat, long) in arr:\n",
        "\n",
        "    if check_DMS(lat):\n",
        "      lat = convert_dms(lat)\n",
        "\n",
        "    if check_DMS(long):\n",
        "      long = convert_dms(long)\n",
        "\n",
        "    new_arr.append((math.radians(lat), math.radians(long)))\n",
        "\n",
        "  return new_arr\n",
        "\n",
        "# Calculate distance between two points\n",
        "def distance(lon1, lon2, lat1, lat2):\n",
        "\n",
        "  distance = 3963.0 * math.acos(math.sin(lat1) * math.sin(lat2) + math.cos(lat1) * math.cos(lat2) * math.cos(lon2-lon1))\n",
        "\n",
        "  return distance\n",
        "\n",
        "\n",
        "# Find the shortest distance\n",
        "def shortest_match(arr1, arr2):\n",
        "  i = 0\n",
        "\n",
        "  shortest_match = []\n",
        "  rad_arr1 = convert_radians(arr1)\n",
        "  rad_arr2 = convert_radians(arr2)\n",
        "\n",
        "  for lat1, lon1 in rad_arr1:\n",
        "      distances = []\n",
        "      for lat2, lon2 in rad_arr2:\n",
        "        distances.append(distance(lon1, lon2, lat1, lat2))\n",
        "\n",
        "      min_value = min(distances)\n",
        "      min_index = distances.index(min_value)\n",
        "      closest_point = arr2[min_index]\n",
        "      shortest_match.append((arr1[i], closest_point))\n",
        "      i = i+1\n",
        "\n",
        "\n",
        "  return shortest_match"
      ],
      "metadata": {
        "id": "BdDToexw78-T"
      },
      "execution_count": 45,
      "outputs": []
    },
    {
      "cell_type": "code",
      "source": [
        "# Test 1\n",
        "\n",
        "current_GPS = [(42.361145, -71.057083)]\n",
        "\n",
        "arr_2 = read_csv('/content/Boston 311 012225.csv',27,28)\n",
        "\n",
        "result = shortest_match(current_GPS, arr_2)\n",
        "\n",
        "print(result)"
      ],
      "metadata": {
        "colab": {
          "base_uri": "https://localhost:8080/"
        },
        "id": "gTQJtO4LChOG",
        "outputId": "55521880-3a90-4002-b00c-6d7e3776a370"
      },
      "execution_count": 34,
      "outputs": [
        {
          "output_type": "stream",
          "name": "stdout",
          "text": [
            "[((42.361145, -71.057083), (42.36146949753902, -71.0568395508577))]\n"
          ]
        }
      ]
    },
    {
      "cell_type": "code",
      "source": [
        "# Test 2 (not efficient - 11 min to execute)\n",
        "\n",
        "major_cities = read_csv('/content/world_cities.csv', 2, 3)\n",
        "airports = read_csv('/content/iata-icao.csv', 5, 6)\n",
        "\n",
        "result = shortest_match(major_cities, airports)\n",
        "\n",
        "print(result)"
      ],
      "metadata": {
        "id": "4FzAl5veL6zE"
      },
      "execution_count": null,
      "outputs": []
    },
    {
      "cell_type": "code",
      "source": [
        "# Test 3\n",
        "\n",
        "cities = read_csv('/content/Cities - Sheet1.csv', 1, 2)\n",
        "airports = read_csv('/content/iata-icao.csv', 5, 6)\n",
        "\n",
        "result = shortest_match(cities, airports)\n",
        "\n",
        "print(result)"
      ],
      "metadata": {
        "colab": {
          "base_uri": "https://localhost:8080/"
        },
        "id": "DwJMVhlNFFxa",
        "outputId": "9360b3c1-a898-4237-f3eb-009265977d3c"
      },
      "execution_count": 46,
      "outputs": [
        {
          "output_type": "stream",
          "name": "stdout",
          "text": [
            "[(('51 30.4', '0 07.5'), (51.5053, 0.055278)), (('35 41.1', '139 45.9'), (35.5533, 139.781)), (('48 51.4', '2 21.3'), (48.7231, 2.35944)), (('33 52.1', '151 12.8'), (35.7653, 140.386))]\n"
          ]
        }
      ]
    },
    {
      "cell_type": "code",
      "source": [
        "# Example implementation\n",
        "\n",
        "array1 = [\n",
        "    (42.3601, -71.0589),\n",
        "    (34.0522, -118.2437)\n",
        "]\n",
        "\n",
        "array2 = [\n",
        "    (40.7128, -74.0060),\n",
        "    (36.7783, -119.4179),\n",
        "    (41.8781, -87.6298)\n",
        "]\n",
        "\n",
        "result = shortest_match(array1, array2)\n",
        "print(result)"
      ],
      "metadata": {
        "id": "2Be8zgSU83zj",
        "colab": {
          "base_uri": "https://localhost:8080/"
        },
        "outputId": "9094e203-1f5c-4693-eb89-e8435b06e40d"
      },
      "execution_count": 35,
      "outputs": [
        {
          "output_type": "stream",
          "name": "stdout",
          "text": [
            "[((42.3601, -71.0589), (40.7128, -74.006)), ((34.0522, -118.2437), (36.7783, -119.4179))]\n"
          ]
        }
      ]
    }
  ]
}